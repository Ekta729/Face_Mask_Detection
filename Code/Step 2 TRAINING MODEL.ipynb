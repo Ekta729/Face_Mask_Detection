{
 "cells": [
  {
   "cell_type": "markdown",
   "metadata": {},
   "source": [
    "### TRAINING THE MODEL"
   ]
  },
  {
   "cell_type": "markdown",
   "metadata": {},
   "source": [
    "Using CNN"
   ]
  },
  {
   "cell_type": "code",
   "execution_count": 1,
   "metadata": {},
   "outputs": [],
   "source": [
    "import numpy as np\n",
    "data = np.load('Image_data.npy')\n",
    "target = np.load('Category.npy')\n",
    "#loading the numpy array save in the previous(1.0 PROCESSING) notebook"
   ]
  },
  {
   "cell_type": "code",
   "execution_count": 2,
   "metadata": {},
   "outputs": [
    {
     "name": "stderr",
     "output_type": "stream",
     "text": [
      "Using TensorFlow backend.\n"
     ]
    }
   ],
   "source": [
    "import keras\n",
    "from keras.models import Sequential\n",
    "from keras.layers import Conv2D\n",
    "from keras.layers import MaxPooling2D\n",
    "from keras.layers import Flatten\n",
    "from keras.layers import Dense\n",
    "from keras.layers import Dropout\n",
    "from keras.layers import Activation"
   ]
  },
  {
   "cell_type": "code",
   "execution_count": 3,
   "metadata": {},
   "outputs": [
    {
     "name": "stdout",
     "output_type": "stream",
     "text": [
      "WARNING:tensorflow:From C:\\Users\\Ekta Gupta\\Anaconda3\\envs\\tensorflow_cpu\\lib\\site-packages\\keras\\backend\\tensorflow_backend.py:74: The name tf.get_default_graph is deprecated. Please use tf.compat.v1.get_default_graph instead.\n",
      "\n"
     ]
    },
    {
     "data": {
      "text/plain": [
       "(1549, 100, 100, 1)"
      ]
     },
     "execution_count": 3,
     "metadata": {},
     "output_type": "execute_result"
    }
   ],
   "source": [
    "#initializing cnn\n",
    "model = Sequential()\n",
    "data.shape"
   ]
  },
  {
   "cell_type": "code",
   "execution_count": 4,
   "metadata": {},
   "outputs": [
    {
     "name": "stdout",
     "output_type": "stream",
     "text": [
      "WARNING:tensorflow:From C:\\Users\\Ekta Gupta\\Anaconda3\\envs\\tensorflow_cpu\\lib\\site-packages\\keras\\backend\\tensorflow_backend.py:517: The name tf.placeholder is deprecated. Please use tf.compat.v1.placeholder instead.\n",
      "\n",
      "WARNING:tensorflow:From C:\\Users\\Ekta Gupta\\Anaconda3\\envs\\tensorflow_cpu\\lib\\site-packages\\keras\\backend\\tensorflow_backend.py:4138: The name tf.random_uniform is deprecated. Please use tf.random.uniform instead.\n",
      "\n",
      "WARNING:tensorflow:From C:\\Users\\Ekta Gupta\\Anaconda3\\envs\\tensorflow_cpu\\lib\\site-packages\\keras\\backend\\tensorflow_backend.py:3976: The name tf.nn.max_pool is deprecated. Please use tf.nn.max_pool2d instead.\n",
      "\n"
     ]
    }
   ],
   "source": [
    "#step 1 Convolution\n",
    "\n",
    "#Conv2D(no. of feature maps you want , filter_size you want, image input size you want)\n",
    "model.add(Conv2D(200, (3,3), input_shape = data.shape[1:]))\n",
    "model.add(Activation('relu'))\n",
    "\n",
    "#step2 MaxPooling\n",
    "model.add(MaxPooling2D(pool_size = (2,2)))"
   ]
  },
  {
   "cell_type": "code",
   "execution_count": 5,
   "metadata": {},
   "outputs": [],
   "source": [
    "#adding one more convolutional layer and maxpooling layer to increase the accuracy\n",
    "\n",
    "model.add(Conv2D(100, (3,3), activation = 'relu' ))\n",
    "model.add(MaxPooling2D(pool_size = (2,2)))"
   ]
  },
  {
   "cell_type": "code",
   "execution_count": 6,
   "metadata": {},
   "outputs": [
    {
     "name": "stdout",
     "output_type": "stream",
     "text": [
      "WARNING:tensorflow:From C:\\Users\\Ekta Gupta\\Anaconda3\\envs\\tensorflow_cpu\\lib\\site-packages\\keras\\backend\\tensorflow_backend.py:133: The name tf.placeholder_with_default is deprecated. Please use tf.compat.v1.placeholder_with_default instead.\n",
      "\n",
      "WARNING:tensorflow:From C:\\Users\\Ekta Gupta\\Anaconda3\\envs\\tensorflow_cpu\\lib\\site-packages\\keras\\backend\\tensorflow_backend.py:3445: calling dropout (from tensorflow.python.ops.nn_ops) with keep_prob is deprecated and will be removed in a future version.\n",
      "Instructions for updating:\n",
      "Please use `rate` instead of `keep_prob`. Rate should be set to `rate = 1 - keep_prob`.\n"
     ]
    }
   ],
   "source": [
    "#step 3 flattening \n",
    "\n",
    "model.add(Flatten()) #it will open the matrix and create the inputs for the ann\n",
    "model.add(Dropout(0.5))"
   ]
  },
  {
   "cell_type": "code",
   "execution_count": 7,
   "metadata": {},
   "outputs": [],
   "source": [
    "# Step 4 Full Connection\n",
    "model.add(Dense(units = 128, activation = 'relu'))\n",
    "model.add(Dense(units = 64, activation = 'relu'))\n",
    "model.add(Dropout(0.1))\n",
    "model.add(Dense(2, activation = 'softmax'))"
   ]
  },
  {
   "cell_type": "code",
   "execution_count": 8,
   "metadata": {},
   "outputs": [
    {
     "name": "stdout",
     "output_type": "stream",
     "text": [
      "WARNING:tensorflow:From C:\\Users\\Ekta Gupta\\Anaconda3\\envs\\tensorflow_cpu\\lib\\site-packages\\keras\\optimizers.py:790: The name tf.train.Optimizer is deprecated. Please use tf.compat.v1.train.Optimizer instead.\n",
      "\n",
      "WARNING:tensorflow:From C:\\Users\\Ekta Gupta\\Anaconda3\\envs\\tensorflow_cpu\\lib\\site-packages\\keras\\backend\\tensorflow_backend.py:3376: The name tf.log is deprecated. Please use tf.math.log instead.\n",
      "\n",
      "WARNING:tensorflow:From C:\\Users\\Ekta Gupta\\Anaconda3\\envs\\tensorflow_cpu\\lib\\site-packages\\tensorflow_core\\python\\ops\\nn_impl.py:183: where (from tensorflow.python.ops.array_ops) is deprecated and will be removed in a future version.\n",
      "Instructions for updating:\n",
      "Use tf.where in 2.0, which has the same broadcast rule as np.where\n"
     ]
    }
   ],
   "source": [
    "#compiling\n",
    "model.compile(optimizer = 'adam', loss = 'binary_crossentropy', metrics = ['accuracy'])\n"
   ]
  },
  {
   "cell_type": "code",
   "execution_count": 9,
   "metadata": {},
   "outputs": [
    {
     "data": {
      "text/plain": [
       "(1549, 100, 100, 1)"
      ]
     },
     "execution_count": 9,
     "metadata": {},
     "output_type": "execute_result"
    }
   ],
   "source": [
    "data.shape"
   ]
  },
  {
   "cell_type": "code",
   "execution_count": 10,
   "metadata": {},
   "outputs": [],
   "source": [
    "from sklearn.model_selection import train_test_split\n",
    "\n",
    "train_data, test_data, train_target, test_target = train_test_split(data, target, test_size=.20)"
   ]
  },
  {
   "cell_type": "code",
   "execution_count": 11,
   "metadata": {},
   "outputs": [
    {
     "name": "stdout",
     "output_type": "stream",
     "text": [
      "WARNING:tensorflow:From C:\\Users\\Ekta Gupta\\Anaconda3\\envs\\tensorflow_cpu\\lib\\site-packages\\keras\\backend\\tensorflow_backend.py:986: The name tf.assign_add is deprecated. Please use tf.compat.v1.assign_add instead.\n",
      "\n",
      "WARNING:tensorflow:From C:\\Users\\Ekta Gupta\\Anaconda3\\envs\\tensorflow_cpu\\lib\\site-packages\\keras\\backend\\tensorflow_backend.py:973: The name tf.assign is deprecated. Please use tf.compat.v1.assign instead.\n",
      "\n",
      "WARNING:tensorflow:From C:\\Users\\Ekta Gupta\\Anaconda3\\envs\\tensorflow_cpu\\lib\\site-packages\\keras\\backend\\tensorflow_backend.py:2741: The name tf.Session is deprecated. Please use tf.compat.v1.Session instead.\n",
      "\n",
      "Train on 991 samples, validate on 248 samples\n",
      "Epoch 1/20\n",
      "WARNING:tensorflow:From C:\\Users\\Ekta Gupta\\Anaconda3\\envs\\tensorflow_cpu\\lib\\site-packages\\keras\\backend\\tensorflow_backend.py:174: The name tf.get_default_session is deprecated. Please use tf.compat.v1.get_default_session instead.\n",
      "\n",
      "WARNING:tensorflow:From C:\\Users\\Ekta Gupta\\Anaconda3\\envs\\tensorflow_cpu\\lib\\site-packages\\keras\\backend\\tensorflow_backend.py:181: The name tf.ConfigProto is deprecated. Please use tf.compat.v1.ConfigProto instead.\n",
      "\n",
      "WARNING:tensorflow:From C:\\Users\\Ekta Gupta\\Anaconda3\\envs\\tensorflow_cpu\\lib\\site-packages\\keras\\backend\\tensorflow_backend.py:190: The name tf.global_variables is deprecated. Please use tf.compat.v1.global_variables instead.\n",
      "\n",
      "WARNING:tensorflow:From C:\\Users\\Ekta Gupta\\Anaconda3\\envs\\tensorflow_cpu\\lib\\site-packages\\keras\\backend\\tensorflow_backend.py:199: The name tf.is_variable_initialized is deprecated. Please use tf.compat.v1.is_variable_initialized instead.\n",
      "\n",
      "WARNING:tensorflow:From C:\\Users\\Ekta Gupta\\Anaconda3\\envs\\tensorflow_cpu\\lib\\site-packages\\keras\\backend\\tensorflow_backend.py:206: The name tf.variables_initializer is deprecated. Please use tf.compat.v1.variables_initializer instead.\n",
      "\n",
      "991/991 [==============================] - 59s 60ms/step - loss: 0.6783 - acc: 0.5742 - val_loss: 0.5815 - val_acc: 0.7258\n",
      "Epoch 2/20\n",
      "991/991 [==============================] - 56s 57ms/step - loss: 0.4532 - acc: 0.7750 - val_loss: 0.4147 - val_acc: 0.8145\n",
      "Epoch 3/20\n",
      "991/991 [==============================] - 57s 58ms/step - loss: 0.3329 - acc: 0.8658 - val_loss: 0.3236 - val_acc: 0.8589\n",
      "Epoch 4/20\n",
      "991/991 [==============================] - 58s 58ms/step - loss: 0.2369 - acc: 0.9051 - val_loss: 0.2678 - val_acc: 0.8589\n",
      "Epoch 5/20\n",
      "991/991 [==============================] - 56s 57ms/step - loss: 0.1607 - acc: 0.9324 - val_loss: 0.2645 - val_acc: 0.8790\n",
      "Epoch 6/20\n",
      "991/991 [==============================] - 55s 56ms/step - loss: 0.1351 - acc: 0.9455 - val_loss: 0.2666 - val_acc: 0.8710\n",
      "Epoch 7/20\n",
      "991/991 [==============================] - 58s 58ms/step - loss: 0.1080 - acc: 0.9596 - val_loss: 0.3258 - val_acc: 0.8992\n",
      "Epoch 8/20\n",
      "991/991 [==============================] - 56s 56ms/step - loss: 0.1124 - acc: 0.9637 - val_loss: 0.3898 - val_acc: 0.8669\n",
      "Epoch 9/20\n",
      "991/991 [==============================] - 62s 63ms/step - loss: 0.0909 - acc: 0.9657 - val_loss: 0.3309 - val_acc: 0.8871\n",
      "Epoch 10/20\n",
      "991/991 [==============================] - 56s 56ms/step - loss: 0.0823 - acc: 0.9717 - val_loss: 0.3069 - val_acc: 0.8790\n",
      "Epoch 11/20\n",
      "991/991 [==============================] - 55s 56ms/step - loss: 0.0606 - acc: 0.9778 - val_loss: 0.3202 - val_acc: 0.8790\n",
      "Epoch 12/20\n",
      "991/991 [==============================] - 57s 57ms/step - loss: 0.0315 - acc: 0.9919 - val_loss: 0.4480 - val_acc: 0.9113\n",
      "Epoch 13/20\n",
      "991/991 [==============================] - 58s 59ms/step - loss: 0.0357 - acc: 0.9929 - val_loss: 0.4642 - val_acc: 0.8992\n",
      "Epoch 14/20\n",
      "991/991 [==============================] - 57s 58ms/step - loss: 0.0696 - acc: 0.9758 - val_loss: 0.4435 - val_acc: 0.8629\n",
      "Epoch 15/20\n",
      "991/991 [==============================] - 57s 57ms/step - loss: 0.0382 - acc: 0.9859 - val_loss: 0.3055 - val_acc: 0.8992\n",
      "Epoch 16/20\n",
      "991/991 [==============================] - 54s 55ms/step - loss: 0.0475 - acc: 0.9828 - val_loss: 0.4586 - val_acc: 0.8871\n",
      "Epoch 17/20\n",
      "991/991 [==============================] - 58s 58ms/step - loss: 0.0365 - acc: 0.9839 - val_loss: 0.4057 - val_acc: 0.9032\n",
      "Epoch 18/20\n",
      "991/991 [==============================] - 57s 58ms/step - loss: 0.0262 - acc: 0.9899 - val_loss: 0.3723 - val_acc: 0.8992\n",
      "Epoch 19/20\n",
      "991/991 [==============================] - 55s 55ms/step - loss: 0.0083 - acc: 0.9960 - val_loss: 0.4508 - val_acc: 0.8992\n",
      "Epoch 20/20\n",
      "991/991 [==============================] - 56s 56ms/step - loss: 0.0257 - acc: 0.9919 - val_loss: 0.5078 - val_acc: 0.8992\n"
     ]
    }
   ],
   "source": [
    "from keras.callbacks import ModelCheckpoint\n",
    "\n",
    "checkpoint = ModelCheckpoint('model_fmd', monitor = 'val_loss',verbose = 0, save_best_only = True, mode = 'auto')\n",
    "hist = model.fit(train_data,train_target, epochs = 20, callbacks = [checkpoint], validation_split = 0.2)"
   ]
  },
  {
   "cell_type": "code",
   "execution_count": null,
   "metadata": {},
   "outputs": [],
   "source": [
    "import matplotlib.pyplot as plt\n",
    "\n",
    "plt.plot( hist.history[\"loss\"], label=\"train_loss\")\n",
    "plt.plot(hist.history[\"val_loss\"], label=\"val_loss\")\n",
    "plt.title(\"Training and Validation Loss\")\n",
    "plt.xlabel(\"Epochs\")\n",
    "plt.ylabel(\"Loss\")\n",
    "plt.legend()"
   ]
  },
  {
   "cell_type": "code",
   "execution_count": null,
   "metadata": {},
   "outputs": [],
   "source": [
    "print(model.evaluate(test_data,test_target))"
   ]
  },
  {
   "cell_type": "code",
   "execution_count": null,
   "metadata": {},
   "outputs": [],
   "source": []
  },
  {
   "cell_type": "code",
   "execution_count": null,
   "metadata": {},
   "outputs": [],
   "source": []
  },
  {
   "cell_type": "code",
   "execution_count": null,
   "metadata": {},
   "outputs": [],
   "source": []
  },
  {
   "cell_type": "code",
   "execution_count": null,
   "metadata": {},
   "outputs": [],
   "source": []
  },
  {
   "cell_type": "code",
   "execution_count": null,
   "metadata": {},
   "outputs": [],
   "source": [
    "\n"
   ]
  }
 ],
 "metadata": {
  "kernelspec": {
   "display_name": "Python 3",
   "language": "python",
   "name": "python3"
  },
  "language_info": {
   "codemirror_mode": {
    "name": "ipython",
    "version": 3
   },
   "file_extension": ".py",
   "mimetype": "text/x-python",
   "name": "python",
   "nbconvert_exporter": "python",
   "pygments_lexer": "ipython3",
   "version": "3.6.10"
  }
 },
 "nbformat": 4,
 "nbformat_minor": 4
}
