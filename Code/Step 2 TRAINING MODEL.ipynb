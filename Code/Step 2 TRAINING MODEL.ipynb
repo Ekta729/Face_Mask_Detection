{
 "cells": [
  {
   "cell_type": "code",
   "execution_count": 2,
   "metadata": {},
   "outputs": [],
   "source": [
    "import matplotlib.pyplot as plt\n",
    "import os\n",
    "import cv2\n",
    "import numpy as np"
   ]
  },
  {
   "cell_type": "markdown",
   "metadata": {},
   "source": [
    "In the below step we will provide the dataset and the labels to categories as 0 and 1"
   ]
  },
  {
   "cell_type": "code",
   "execution_count": 3,
   "metadata": {},
   "outputs": [
    {
     "name": "stdout",
     "output_type": "stream",
     "text": [
      "{'No_Mask': 0, 'With_Mask': 1}\n",
      "['No_Mask', 'With_Mask']\n",
      "[0, 1]\n"
     ]
    }
   ],
   "source": [
    "path = 'dataset'\n",
    "categories = os.listdir(path)  #2 categories in the data ie. no mask and with mask\n",
    "\n",
    "labels = [i for i in range(len(categories))]    #so if there are 2 categories so len(categories) is 2 and \"i\" will be 0 & 1\n",
    "\n",
    "label_dict = dict(zip(categories,labels))\n",
    "\n",
    "print(label_dict)\n",
    "print(categories)\n",
    "print(labels)"
   ]
  },
  {
   "cell_type": "code",
   "execution_count": 4,
   "metadata": {},
   "outputs": [],
   "source": [
    "img_size = 100\n",
    "Image_data = []\n",
    "Image_category = []   #that is with mask or without mask\n",
    "\n",
    "for category in categories:    # categories variable is define in the above cell\n",
    "    \n",
    "    folder_path = os.path.join(path,category)\n",
    "    image_names = os.listdir(folder_path)\n",
    "    \n",
    "    for img_name in image_names:\n",
    "        \n",
    "        image_path = os.path.join(folder_path,img_name)\n",
    "        img = cv2.imread(image_path)\n",
    "        \n",
    "        img = cv2.cvtColor(img,cv2.COLOR_BGR2GRAY)\n",
    "        #CONVERTUNG THE IMAGE INTO GREY SCALE\n",
    "        \n",
    "        resized = cv2.resize(img,(img_size, img_size))\n",
    "        #resizing the grayscale into 100X100 as img_size = 100\n",
    "        \n",
    "        Image_data.append(resized)\n",
    "        Image_category.append(label_dict[category])\n",
    "        #appending the image into Image_data and the label into the Image_category "
   ]
  },
  {
   "cell_type": "code",
   "execution_count": 5,
   "metadata": {},
   "outputs": [],
   "source": [
    "np.save('Image_data',Image_data)\n",
    "np.save('Category',new_category)"
   ]
  },
  {
   "cell_type": "markdown",
   "metadata": {},
   "source": [
    "## TRAINING THE MODEL"
   ]
  },
  {
   "cell_type": "code",
   "execution_count": 3,
   "metadata": {},
   "outputs": [],
   "source": [
    "import numpy as np\n",
    "data = np.load('Image_data.npy')\n",
    "target = np.load('Category.npy')\n",
    "#loading the numpy array save in the previous(1.0 PROCESSING) notebook"
   ]
  },
  {
   "cell_type": "code",
   "execution_count": 6,
   "metadata": {},
   "outputs": [
    {
     "name": "stderr",
     "output_type": "stream",
     "text": [
      "Using TensorFlow backend.\n"
     ]
    }
   ],
   "source": [
    "import keras\n",
    "from keras.models import Sequential\n",
    "from keras.layers import Conv2D\n",
    "from keras.layers import MaxPooling2D\n",
    "from keras.layers import Flatten\n",
    "from keras.layers import Dense\n",
    "from keras.layers import Dropout\n",
    "from keras.layers import Activation"
   ]
  },
  {
   "cell_type": "code",
   "execution_count": null,
   "metadata": {},
   "outputs": [],
   "source": [
    "#initializing cnn\n",
    "model = Sequential()\n",
    "data.shape"
   ]
  },
  {
   "cell_type": "code",
   "execution_count": null,
   "metadata": {},
   "outputs": [],
   "source": [
    "#step 1 Convolution\n",
    "\n",
    "#Conv2D(no. of feature maps you want , filter_size you want, image input size you want)\n",
    "model.add(Conv2D(200, (3,3), input_shape = data.shape[1:]))\n",
    "model.add(Activation('relu'))\n",
    "\n",
    "#step2 MaxPooling\n",
    "model.add(MaxPooling2D(pool_size = (2,2)))"
   ]
  },
  {
   "cell_type": "code",
   "execution_count": null,
   "metadata": {},
   "outputs": [],
   "source": [
    "#adding one more convolutional layer and maxpooling layer to increase the accuracy\n",
    "\n",
    "model.add(Conv2D(100, (3,3), activation = 'relu' ))\n",
    "model.add(MaxPooling2D(pool_size = (2,2)))"
   ]
  },
  {
   "cell_type": "code",
   "execution_count": null,
   "metadata": {},
   "outputs": [],
   "source": [
    "#step 3 flattening \n",
    "\n",
    "model.add(Flatten()) #it will open the matrix and create the inputs for the ann\n",
    "model.add(Dropout(0.5))"
   ]
  },
  {
   "cell_type": "code",
   "execution_count": null,
   "metadata": {},
   "outputs": [],
   "source": [
    "# Step 4 Full Connection\n",
    "model.add(Dense(units = 128, activation = 'relu'))\n",
    "model.add(Dense(units = 64, activation = 'relu'))\n",
    "model.add(Dropout(0.1))\n",
    "model.add(Dense(2, activation = 'softmax'))"
   ]
  },
  {
   "cell_type": "code",
   "execution_count": null,
   "metadata": {},
   "outputs": [],
   "source": [
    "#compiling\n",
    "model.compile(optimizer = 'adam', loss = 'binary_crossentropy', metrics = ['accuracy'])\n"
   ]
  },
  {
   "cell_type": "code",
   "execution_count": null,
   "metadata": {},
   "outputs": [],
   "source": [
    "data.shape"
   ]
  },
  {
   "cell_type": "code",
   "execution_count": null,
   "metadata": {},
   "outputs": [],
   "source": [
    "from sklearn.model_selection import train_test_split\n",
    "\n",
    "train_data, test_data, train_target, test_target = train_test_split(data, target, test_size=.20)"
   ]
  },
  {
   "cell_type": "code",
   "execution_count": null,
   "metadata": {},
   "outputs": [],
   "source": [
    "from keras.callbacks import ModelCheckpoint\n",
    "\n",
    "checkpoint = ModelCheckpoint('model_fmd', monitor = 'val_loss',verbose = 0, save_best_only = True, mode = 'auto')\n",
    "hist = model.fit(train_data,train_target, epochs = 20, callbacks = [checkpoint], validation_split = 0.2)"
   ]
  },
  {
   "cell_type": "code",
   "execution_count": null,
   "metadata": {},
   "outputs": [],
   "source": [
    "import matplotlib.pyplot as plt\n",
    "\n",
    "plt.plot( hist.history[\"loss\"], label=\"train_loss\")\n",
    "plt.plot(hist.history[\"val_loss\"], label=\"val_loss\")\n",
    "plt.title(\"Training and Validation Loss\")\n",
    "plt.xlabel(\"Epochs\")\n",
    "plt.ylabel(\"Loss\")\n",
    "plt.legend()"
   ]
  },
  {
   "cell_type": "code",
   "execution_count": null,
   "metadata": {},
   "outputs": [],
   "source": [
    "print(model.evaluate(test_data,test_target))"
   ]
  },
  {
   "cell_type": "code",
   "execution_count": null,
   "metadata": {},
   "outputs": [],
   "source": []
  }
 ],
 "metadata": {
  "kernelspec": {
   "display_name": "Python 3",
   "language": "python",
   "name": "python3"
  },
  "language_info": {
   "codemirror_mode": {
    "name": "ipython",
    "version": 3
   },
   "file_extension": ".py",
   "mimetype": "text/x-python",
   "name": "python",
   "nbconvert_exporter": "python",
   "pygments_lexer": "ipython3",
   "version": "3.6.10"
  }
 },
 "nbformat": 4,
 "nbformat_minor": 4
}
