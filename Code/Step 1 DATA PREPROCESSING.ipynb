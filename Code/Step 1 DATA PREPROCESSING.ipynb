{
 "cells": [
  {
   "cell_type": "markdown",
   "metadata": {},
   "source": [
    "## PREPROCESSING"
   ]
  },
  {
   "cell_type": "markdown",
   "metadata": {},
   "source": [
    "### IMPORT ALL THE NECESSAY LIBRARIES"
   ]
  },
  {
   "cell_type": "code",
   "execution_count": 1,
   "metadata": {},
   "outputs": [],
   "source": [
    "import matplotlib.pyplot as plt\n",
    "import os\n",
    "import cv2\n"
   ]
  },
  {
   "cell_type": "code",
   "execution_count": 2,
   "metadata": {},
   "outputs": [],
   "source": [
    "import numpy as np"
   ]
  },
  {
   "cell_type": "markdown",
   "metadata": {},
   "source": [
    "In the below step we will provide the dataset and the labels to categories as 0 and 1"
   ]
  },
  {
   "cell_type": "code",
   "execution_count": 3,
   "metadata": {},
   "outputs": [
    {
     "name": "stdout",
     "output_type": "stream",
     "text": [
      "{'No_Mask': 0, 'With_Mask': 1}\n",
      "['No_Mask', 'With_Mask']\n",
      "[0, 1]\n"
     ]
    }
   ],
   "source": [
    "path = 'dataset'\n",
    "categories = os.listdir(path)  #2 categories in the data ie. no mask and with mask\n",
    "\n",
    "labels = [i for i in range(len(categories))]    #so if there are 2 categories so len(categories) is 2 and \"i\" will be 0 & 1\n",
    "\n",
    "label_dict = dict(zip(categories,labels))\n",
    "\n",
    "print(label_dict)\n",
    "print(categories)\n",
    "print(labels)"
   ]
  },
  {
   "cell_type": "code",
   "execution_count": 7,
   "metadata": {},
   "outputs": [],
   "source": [
    "img_size = 100\n",
    "Image_data = []\n",
    "Image_category = []   #that is with mask or without mask\n",
    "\n",
    "for category in categories:    # categories variable is define in the above cell\n",
    "    \n",
    "    folder_path = os.path.join(path,category)\n",
    "    image_names = os.listdir(folder_path)\n",
    "    \n",
    "    for img_name in image_names:\n",
    "        \n",
    "        image_path = os.path.join(folder_path,img_name)\n",
    "        img = cv2.imread(image_path)\n",
    "        \n",
    "        img = cv2.cvtColor(img,cv2.COLOR_BGR2GRAY)\n",
    "        #CONVERTUNG THE IMAGE INTO GREY SCALE\n",
    "        \n",
    "        resized = cv2.resize(img,(img_size, img_size))\n",
    "        #resizing the grayscale into 100X100 as img_size = 100\n",
    "        \n",
    "        Image_data.append(resized)\n",
    "        Image_category.append(label_dict[category])\n",
    "        #appending the image into Image_data and the label into the Image_category      "
   ]
  },
  {
   "cell_type": "code",
   "execution_count": 8,
   "metadata": {},
   "outputs": [
    {
     "name": "stdout",
     "output_type": "stream",
     "text": [
      "(1560, 100, 100)\n"
     ]
    }
   ],
   "source": [
    "Image_data = np.array(Image_data)/255.0 #normalize the image it will convert the pixel renge to 0 and 1\n",
    "print(Image_data.shape)\n",
    "Image_data = np.reshape(Image_data,(Image_data.shape[0],img_size,img_size,1)) #reshape it into 4 dimensional array and the nn uses 4 dim array \n",
    "\n",
    "Image_category = np.array(Image_category) #to convert the target into numpy array"
   ]
  },
  {
   "cell_type": "code",
   "execution_count": 9,
   "metadata": {},
   "outputs": [
    {
     "name": "stderr",
     "output_type": "stream",
     "text": [
      "Using TensorFlow backend.\n"
     ]
    }
   ],
   "source": [
    "from keras.utils import np_utils\n",
    "\n",
    "new_category = np_utils.to_categorical(Image_category)  #to convet into categorical array as the last layer on nn will have 2 categories 0 and 1"
   ]
  },
  {
   "cell_type": "code",
   "execution_count": 10,
   "metadata": {},
   "outputs": [],
   "source": [
    "np.save('Image_data',Image_data)\n",
    "np.save('Category',new_category)"
   ]
  },
  {
   "cell_type": "code",
   "execution_count": null,
   "metadata": {},
   "outputs": [],
   "source": []
  },
  {
   "cell_type": "code",
   "execution_count": null,
   "metadata": {},
   "outputs": [],
   "source": []
  },
  {
   "cell_type": "code",
   "execution_count": null,
   "metadata": {},
   "outputs": [],
   "source": []
  }
 ],
 "metadata": {
  "kernelspec": {
   "display_name": "Python 3",
   "language": "python",
   "name": "python3"
  },
  "language_info": {
   "codemirror_mode": {
    "name": "ipython",
    "version": 3
   },
   "file_extension": ".py",
   "mimetype": "text/x-python",
   "name": "python",
   "nbconvert_exporter": "python",
   "pygments_lexer": "ipython3",
   "version": "3.6.10"
  }
 },
 "nbformat": 4,
 "nbformat_minor": 4
}
